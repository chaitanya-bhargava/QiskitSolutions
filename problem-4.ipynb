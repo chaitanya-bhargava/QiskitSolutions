{
 "cells": [
  {
   "cell_type": "markdown",
   "id": "469c4405",
   "metadata": {},
   "source": [
    "# Problem 4 - Deutsch Josza \n",
    "\n",
    "This is a problem which would refine your knowledge about an algorithm which we have learned in one of our workshops. The Deutsch-Jozsa algorithm was one of the first to demonstrate a quantum advantage. Let us revise what we learnt in the lectures. \n",
    "\n",
    "The Deutsch-Jozsa algorithm is used to identify the *type* of a black box function. We are given a function which takes in binary inputs over the set $\\{0,1\\}^N$ ($N$ is an integer) and gives an output of either $0\\ or\\ 1$. For example :\n",
    "\n",
    "- Let $\\mathcal{f}$ be a function which accepts a 3 bit binary input\n",
    "- Then the set of **possible inputs** will be $\\{000,\\ 001,\\ 010,\\ 011,\\ 100,\\ 101,\\ 110,\\ 111\\}$\n",
    "- Also, since the set of **possible outputs** is $\\{0,\\ 1\\}$, we can have a function such as $\\mathcal{f}(001) = 0$, $\\mathcal{f}(101) = 1$, etc.\n",
    "\n",
    "- In the Deutsch-Jozsa algorithm we are given such a function which will satisfy only one of the following properties - \n",
    "    - $\\mathcal{f}$ is **constant** : it always returns the same value (it can be 0 or 1).\n",
    "    - $\\mathcal{f}$ is **balanced** : for half of the inputs the value is 0, and for the other half it is 1. \n"
   ]
  },
  {
   "cell_type": "code",
   "execution_count": 4,
   "id": "7317b9fd",
   "metadata": {
    "ExecuteTime": {
     "end_time": "2022-10-12T14:49:42.647478Z",
     "start_time": "2022-10-12T14:49:42.634753Z"
    }
   },
   "outputs": [],
   "source": [
    "## Enter Team ID \n",
    "import os \n",
    "os.environ[\"TEAMID\"] = \"Excalibur\""
   ]
  },
  {
   "cell_type": "markdown",
   "id": "c00ffe84",
   "metadata": {},
   "source": [
    "## Task \n",
    "- You have to build different Deutsch - Jozsa circuits to identify the types of functions given to you\n",
    "- Each level contains different versions of this task, with varying levels of difficulties\n",
    "- All the levels are described as below \n",
    "- Your `QuantumCircuit` will be used as the Deutsch-Jozsa circuit and results would be evaluated depending on type of function given.\n",
    "\n",
    "<img src='resources/problem-4/deutsch_steps.png' width = 60%>"
   ]
  },
  {
   "cell_type": "markdown",
   "id": "86120169",
   "metadata": {},
   "source": [
    "### Level 1 - 50 points\n",
    "- Given a 2 bit function implemented as a `quantum oracle` as an input, determine whether it is balanced or constant. \n",
    "- You need to make a 2 qubit Deutsch - Josza circuit and find out if the oracle represents a balanced or a constant function.\n",
    "- You would need to build a `QuantumCircuit` which when measured for $|0\\rangle^{\\otimes 2}$ on the input register, outputs a $0$ probability when $\\mathcal\\{f\\}$ is **balanced**, and $1$ if it is **constant** (revisit the lecture slides if you're not sure about the circuit!)\n"
   ]
  },
  {
   "cell_type": "markdown",
   "id": "6dba9490",
   "metadata": {},
   "source": [
    "#### To submit \n",
    "- Create a function which would accept a parameter `oracle`\n",
    "- `oracle` will be a quantum oracle which implements a 2-bit **balanced** or **constant** function, with size `2` qubits\n",
    "- Depending on this function, you need to build and return a `QuantumCircuit` object of size `3` qubits \n",
    "- This `QuantumCircuit` will be run and the first `2` qubits will be measured. The result will be deduced based on the probability of the $|0\\rangle ^ {\\otimes 2}$ state\n",
    "- **PLEASE ADD MEASUREMENTS IN CIRCUIT**\n",
    "\n",
    "**NOTE** \n",
    "1. Please refrain from adding any kinds of statements other than comments in the designated code block, this may result in wrong output \n",
    "2. You can assume that the input oracle is always a valid input"
   ]
  },
  {
   "cell_type": "markdown",
   "id": "1bc2e9d3",
   "metadata": {},
   "source": [
    "#### Example Testcase "
   ]
  },
  {
   "cell_type": "markdown",
   "id": "33d07310",
   "metadata": {},
   "source": [
    "- You may be given an oracle $\\mathcal{U_f}$ which implements the 2-bit binary function $\\mathcal{f}$\n",
    "    \n",
    "- Now the test case would look like - \n",
    "\n",
    "```python\n",
    "\n",
    "# each index is represented by the binary input \n",
    "oracle = QuantumCircuit(3)\n",
    "oracle.id(2)\n",
    "# this is a CONSTANT ORACLE, with f(x) = 0\n",
    "\n",
    "# your dj circuit\n",
    "dj_circuit = dj_circuit_2q(oracle)\n",
    "```\n",
    "\n"
   ]
  },
  {
   "cell_type": "code",
   "execution_count": 5,
   "id": "6de84a74",
   "metadata": {
    "ExecuteTime": {
     "end_time": "2022-10-08T09:03:39.108988Z",
     "start_time": "2022-10-08T09:03:39.101353Z"
    }
   },
   "outputs": [],
   "source": [
    "from qiskit import QuantumCircuit\n",
    "def dj_circuit_2q(oracle):\n",
    "    \n",
    "    dj_circuit = QuantumCircuit(3,2)\n",
    "    ### Your code here \n",
    "    dj_circuit.x(2)\n",
    "    dj_circuit.barrier()\n",
    "    dj_circuit.h(range(3))\n",
    "    dj_circuit.barrier()\n",
    "    dj_circuit.compose(oracle, inplace = True)\n",
    "    dj_circuit.barrier()\n",
    "    dj_circuit.h(range(2))\n",
    "    dj_circuit.measure(range(2), range(2))\n",
    "    ### Your code here \n",
    "    \n",
    "    return dj_circuit"
   ]
  },
  {
   "cell_type": "markdown",
   "id": "659cfa88",
   "metadata": {},
   "source": [
    "#### Test function\n",
    "- Test your function before submitting to the grader"
   ]
  },
  {
   "cell_type": "code",
   "execution_count": 6,
   "id": "e0a0fa81",
   "metadata": {
    "ExecuteTime": {
     "end_time": "2022-10-07T14:27:55.170803Z",
     "start_time": "2022-10-07T14:27:55.165245Z"
    }
   },
   "outputs": [
    {
     "data": {
      "text/html": [
       "<pre style=\"word-wrap: normal;white-space: pre;background: #fff0;line-height: 1.1;font-family: &quot;Courier New&quot;,Courier,monospace\">           ░ ┌───┐ ░       ░ ┌───┐┌─┐   \n",
       "q_0: ──────░─┤ H ├─░───────░─┤ H ├┤M├───\n",
       "           ░ ├───┤ ░       ░ ├───┤└╥┘┌─┐\n",
       "q_1: ──────░─┤ H ├─░───────░─┤ H ├─╫─┤M├\n",
       "     ┌───┐ ░ ├───┤ ░ ┌───┐ ░ └───┘ ║ └╥┘\n",
       "q_2: ┤ X ├─░─┤ H ├─░─┤ I ├─░───────╫──╫─\n",
       "     └───┘ ░ └───┘ ░ └───┘ ░       ║  ║ \n",
       "c: 2/══════════════════════════════╩══╩═\n",
       "                                   0  1 </pre>"
      ],
      "text/plain": [
       "           ░ ┌───┐ ░       ░ ┌───┐┌─┐   \n",
       "q_0: ──────░─┤ H ├─░───────░─┤ H ├┤M├───\n",
       "           ░ ├───┤ ░       ░ ├───┤└╥┘┌─┐\n",
       "q_1: ──────░─┤ H ├─░───────░─┤ H ├─╫─┤M├\n",
       "     ┌───┐ ░ ├───┤ ░ ┌───┐ ░ └───┘ ║ └╥┘\n",
       "q_2: ┤ X ├─░─┤ H ├─░─┤ I ├─░───────╫──╫─\n",
       "     └───┘ ░ └───┘ ░ └───┘ ░       ║  ║ \n",
       "c: 2/══════════════════════════════╩══╩═\n",
       "                                   0  1 "
      ]
     },
     "execution_count": 6,
     "metadata": {},
     "output_type": "execute_result"
    }
   ],
   "source": [
    "def test_function_1():\n",
    "    # a constant oracle with f(x)=0 for all inputs \n",
    "    oracle = QuantumCircuit(3)\n",
    "    oracle.id(2)\n",
    "    \n",
    "    dj_circuit = dj_circuit_2q(oracle)\n",
    "    \n",
    "    return dj_circuit\n",
    "\n",
    "test_function_1().draw()"
   ]
  },
  {
   "cell_type": "code",
   "execution_count": 7,
   "id": "377a5a45",
   "metadata": {
    "ExecuteTime": {
     "end_time": "2022-10-08T09:02:00.191311Z",
     "start_time": "2022-10-08T09:01:59.803958Z"
    }
   },
   "outputs": [
    {
     "name": "stdout",
     "output_type": "stream",
     "text": [
      "2022-10-17 15:19:21.610006\n",
      "6 cells appended.\n",
      "Congratulations, your answer is correct!\n"
     ]
    }
   ],
   "source": [
    "from grader.graders.problem_4.grader import grader1 \n",
    "grader1.evaluate(dj_circuit_2q)"
   ]
  },
  {
   "cell_type": "markdown",
   "id": "0e566bba",
   "metadata": {},
   "source": [
    "### Level 2 - 75 points\n",
    "- This level is an extension of level 1.\n",
    "- Here, the input function will be a **4-qubit oracle** which encodes a function with 16 possible inputs\n",
    "- You would need to build a `QuantumCircuit` which when measured for $|0\\rangle^{\\otimes 4}$ on the input register, outputs a probability of $0$ when $\\mathcal\\{f\\}$ is **balanced**, and $1$ if it is **constant** "
   ]
  },
  {
   "cell_type": "markdown",
   "id": "eefe704e",
   "metadata": {},
   "source": [
    "#### To submit \n",
    "- Create a function which would accept a parameter `oracle`\n",
    "- `oracle` will be a quantum oracle which implements a 4-bit **balanced** or **constant** function, with size `5` qubits\n",
    "- Depending on this function, you need to build and return a `QuantumCircuit` object of size `5` qubits \n",
    "- This `QuantumCircuit` will be run on the simulator and the first `4` qubits will be measured. The result will be deduced based on the probability of the $|0\\rangle ^ {\\otimes 4}$ state\n",
    "- **PLEASE ADD MEASUREMENTS IN CIRCUIT**\n",
    "\n",
    "\n",
    "**NOTE** \n",
    "1. Please refrain from adding any kinds of statements other than comments in the designated code block, this may result in wrong output \n",
    "2. You can assume that the input oracle is always a valid input"
   ]
  },
  {
   "cell_type": "code",
   "execution_count": 8,
   "id": "ca326f3c",
   "metadata": {
    "ExecuteTime": {
     "end_time": "2022-10-08T09:03:33.457000Z",
     "start_time": "2022-10-08T09:03:33.454256Z"
    }
   },
   "outputs": [],
   "source": [
    "def dj_circuit_4q(oracle):\n",
    "    \n",
    "    circuit = QuantumCircuit(5, 4)\n",
    "    ### Your code here \n",
    "    circuit.x(4)\n",
    "    circuit.barrier()\n",
    "    circuit.h(range(5))\n",
    "    circuit.barrier()\n",
    "    circuit.compose(oracle, inplace = True)\n",
    "    circuit.barrier()\n",
    "    circuit.h(range(4))\n",
    "    circuit.measure(range(4), range(4))\n",
    "    ### Your code here \n",
    "    \n",
    "    return circuit"
   ]
  },
  {
   "cell_type": "markdown",
   "id": "8cc01c9f",
   "metadata": {},
   "source": [
    "#### Test function\n",
    "- Test your function before submitting to the grader"
   ]
  },
  {
   "cell_type": "code",
   "execution_count": 9,
   "id": "e52d3f40",
   "metadata": {
    "ExecuteTime": {
     "end_time": "2022-10-08T09:02:15.749361Z",
     "start_time": "2022-10-08T09:02:15.633414Z"
    }
   },
   "outputs": [
    {
     "data": {
      "text/html": [
       "<pre style=\"word-wrap: normal;white-space: pre;background: #fff0;line-height: 1.1;font-family: &quot;Courier New&quot;,Courier,monospace\">           ░ ┌───┐ ░       ░ ┌───┐┌─┐         \n",
       "q_0: ──────░─┤ H ├─░───────░─┤ H ├┤M├─────────\n",
       "           ░ ├───┤ ░       ░ ├───┤└╥┘┌─┐      \n",
       "q_1: ──────░─┤ H ├─░───────░─┤ H ├─╫─┤M├──────\n",
       "           ░ ├───┤ ░       ░ ├───┤ ║ └╥┘┌─┐   \n",
       "q_2: ──────░─┤ H ├─░───────░─┤ H ├─╫──╫─┤M├───\n",
       "           ░ ├───┤ ░       ░ ├───┤ ║  ║ └╥┘┌─┐\n",
       "q_3: ──────░─┤ H ├─░───────░─┤ H ├─╫──╫──╫─┤M├\n",
       "     ┌───┐ ░ ├───┤ ░ ┌───┐ ░ └───┘ ║  ║  ║ └╥┘\n",
       "q_4: ┤ X ├─░─┤ H ├─░─┤ I ├─░───────╫──╫──╫──╫─\n",
       "     └───┘ ░ └───┘ ░ └───┘ ░       ║  ║  ║  ║ \n",
       "c: 4/══════════════════════════════╩══╩══╩══╩═\n",
       "                                   0  1  2  3 </pre>"
      ],
      "text/plain": [
       "           ░ ┌───┐ ░       ░ ┌───┐┌─┐         \n",
       "q_0: ──────░─┤ H ├─░───────░─┤ H ├┤M├─────────\n",
       "           ░ ├───┤ ░       ░ ├───┤└╥┘┌─┐      \n",
       "q_1: ──────░─┤ H ├─░───────░─┤ H ├─╫─┤M├──────\n",
       "           ░ ├───┤ ░       ░ ├───┤ ║ └╥┘┌─┐   \n",
       "q_2: ──────░─┤ H ├─░───────░─┤ H ├─╫──╫─┤M├───\n",
       "           ░ ├───┤ ░       ░ ├───┤ ║  ║ └╥┘┌─┐\n",
       "q_3: ──────░─┤ H ├─░───────░─┤ H ├─╫──╫──╫─┤M├\n",
       "     ┌───┐ ░ ├───┤ ░ ┌───┐ ░ └───┘ ║  ║  ║ └╥┘\n",
       "q_4: ┤ X ├─░─┤ H ├─░─┤ I ├─░───────╫──╫──╫──╫─\n",
       "     └───┘ ░ └───┘ ░ └───┘ ░       ║  ║  ║  ║ \n",
       "c: 4/══════════════════════════════╩══╩══╩══╩═\n",
       "                                   0  1  2  3 "
      ]
     },
     "execution_count": 9,
     "metadata": {},
     "output_type": "execute_result"
    }
   ],
   "source": [
    "def test_function_2():\n",
    "    oracle = QuantumCircuit(5)\n",
    "    oracle.id(4)\n",
    "    \n",
    "    dj_circuit = dj_circuit_4q(oracle)\n",
    "    \n",
    "    return dj_circuit\n",
    "\n",
    "test_function_2().draw()"
   ]
  },
  {
   "cell_type": "code",
   "execution_count": 10,
   "id": "3517eebd",
   "metadata": {
    "ExecuteTime": {
     "end_time": "2022-10-08T09:02:16.756725Z",
     "start_time": "2022-10-08T09:02:16.554912Z"
    }
   },
   "outputs": [
    {
     "name": "stdout",
     "output_type": "stream",
     "text": [
      "2022-10-17 15:19:28.291145\n",
      "6 cells appended.\n",
      "Congratulations, your answer is correct!\n"
     ]
    }
   ],
   "source": [
    "from grader.graders.problem_4.grader import grader2\n",
    "grader2.evaluate(dj_circuit_4q)"
   ]
  },
  {
   "cell_type": "markdown",
   "id": "01f22a61",
   "metadata": {},
   "source": [
    "### Level 3 - 125 points \n",
    "- Let's try to generalize our oracles a bit!\n",
    "- In this task, each `oracle` will encode a function which takes in $n$ bit binary inputs\n",
    "- You would need to build a `QuantumCircuit` which when measured for $|0\\rangle^{\\otimes n}$ on the input register, outputs a probability of $0$ when $\\mathcal\\{f\\}$ is **balanced**, and $1$ if it is **constant** \n",
    "\n",
    "- You should use exactly $n+1$ qubits in your final oracle circuit\n",
    "\n",
    "#### Constraints \n",
    "- $2 <= n <= 10$\n"
   ]
  },
  {
   "cell_type": "markdown",
   "id": "dd9ac0e7",
   "metadata": {},
   "source": [
    "#### To submit \n",
    "- Create a function which would accept two parameters `n` and `oracle`\n",
    "- `oracle` will be an `n+1` qubit `QuantumCircuit`\n",
    "- Depending on this function, you need to build and return a `QuantumCircuit` object of size `n+1` qubits \n",
    "- This `QuantumCircuit` will be run on the simulator and the first `n` qubits will be measured. The result will be deduced based on the probability of the $|0\\rangle ^ {\\otimes n}$ state\n",
    "- **PLEASE ADD MEASUREMENTS IN CIRCUIT**\n",
    "\n",
    "\n",
    "**NOTE** \n",
    "1. Please refrain from adding any kinds of statements other than comments in the designated code block, this may result in wrong output \n",
    "2. You can assume that the input oracle is always a valid input"
   ]
  },
  {
   "cell_type": "code",
   "execution_count": 11,
   "id": "4229b842",
   "metadata": {
    "ExecuteTime": {
     "end_time": "2022-10-08T09:03:20.818917Z",
     "start_time": "2022-10-08T09:03:20.816011Z"
    }
   },
   "outputs": [],
   "source": [
    "from qiskit import QuantumCircuit \n",
    "\n",
    "def dj_circuit_general(n, oracle):\n",
    "    \n",
    "    dj_circuit = QuantumCircuit(n+1, n)\n",
    "    ### Your code here \n",
    "    dj_circuit.x(n)\n",
    "    dj_circuit.barrier()\n",
    "    dj_circuit.h(range(n+1))\n",
    "    dj_circuit.barrier()\n",
    "    dj_circuit.compose(oracle, inplace = True)\n",
    "    dj_circuit.barrier()\n",
    "    dj_circuit.h(range(n))\n",
    "    dj_circuit.measure(range(n), range(n))\n",
    "    ### Your code here \n",
    "    \n",
    "    return dj_circuit"
   ]
  },
  {
   "cell_type": "markdown",
   "id": "2245b986",
   "metadata": {},
   "source": [
    "#### Test function\n",
    "- Test your function before submitting to the grader"
   ]
  },
  {
   "cell_type": "code",
   "execution_count": 12,
   "id": "8499f865",
   "metadata": {
    "ExecuteTime": {
     "end_time": "2022-10-07T14:29:05.371054Z",
     "start_time": "2022-10-07T14:29:05.364397Z"
    }
   },
   "outputs": [
    {
     "data": {
      "text/html": [
       "<pre style=\"word-wrap: normal;white-space: pre;background: #fff0;line-height: 1.1;font-family: &quot;Courier New&quot;,Courier,monospace\">           ░ ┌───┐ ░       ░ ┌───┐┌─┐               \n",
       "q_0: ──────░─┤ H ├─░───────░─┤ H ├┤M├───────────────\n",
       "           ░ ├───┤ ░       ░ ├───┤└╥┘┌─┐            \n",
       "q_1: ──────░─┤ H ├─░───────░─┤ H ├─╫─┤M├────────────\n",
       "           ░ ├───┤ ░       ░ ├───┤ ║ └╥┘┌─┐         \n",
       "q_2: ──────░─┤ H ├─░───────░─┤ H ├─╫──╫─┤M├─────────\n",
       "           ░ ├───┤ ░       ░ ├───┤ ║  ║ └╥┘┌─┐      \n",
       "q_3: ──────░─┤ H ├─░───────░─┤ H ├─╫──╫──╫─┤M├──────\n",
       "           ░ ├───┤ ░       ░ ├───┤ ║  ║  ║ └╥┘┌─┐   \n",
       "q_4: ──────░─┤ H ├─░───────░─┤ H ├─╫──╫──╫──╫─┤M├───\n",
       "           ░ ├───┤ ░       ░ ├───┤ ║  ║  ║  ║ └╥┘┌─┐\n",
       "q_5: ──────░─┤ H ├─░───────░─┤ H ├─╫──╫──╫──╫──╫─┤M├\n",
       "     ┌───┐ ░ ├───┤ ░ ┌───┐ ░ └───┘ ║  ║  ║  ║  ║ └╥┘\n",
       "q_6: ┤ X ├─░─┤ H ├─░─┤ I ├─░───────╫──╫──╫──╫──╫──╫─\n",
       "     └───┘ ░ └───┘ ░ └───┘ ░       ║  ║  ║  ║  ║  ║ \n",
       "c: 6/══════════════════════════════╩══╩══╩══╩══╩══╩═\n",
       "                                   0  1  2  3  4  5 </pre>"
      ],
      "text/plain": [
       "           ░ ┌───┐ ░       ░ ┌───┐┌─┐               \n",
       "q_0: ──────░─┤ H ├─░───────░─┤ H ├┤M├───────────────\n",
       "           ░ ├───┤ ░       ░ ├───┤└╥┘┌─┐            \n",
       "q_1: ──────░─┤ H ├─░───────░─┤ H ├─╫─┤M├────────────\n",
       "           ░ ├───┤ ░       ░ ├───┤ ║ └╥┘┌─┐         \n",
       "q_2: ──────░─┤ H ├─░───────░─┤ H ├─╫──╫─┤M├─────────\n",
       "           ░ ├───┤ ░       ░ ├───┤ ║  ║ └╥┘┌─┐      \n",
       "q_3: ──────░─┤ H ├─░───────░─┤ H ├─╫──╫──╫─┤M├──────\n",
       "           ░ ├───┤ ░       ░ ├───┤ ║  ║  ║ └╥┘┌─┐   \n",
       "q_4: ──────░─┤ H ├─░───────░─┤ H ├─╫──╫──╫──╫─┤M├───\n",
       "           ░ ├───┤ ░       ░ ├───┤ ║  ║  ║  ║ └╥┘┌─┐\n",
       "q_5: ──────░─┤ H ├─░───────░─┤ H ├─╫──╫──╫──╫──╫─┤M├\n",
       "     ┌───┐ ░ ├───┤ ░ ┌───┐ ░ └───┘ ║  ║  ║  ║  ║ └╥┘\n",
       "q_6: ┤ X ├─░─┤ H ├─░─┤ I ├─░───────╫──╫──╫──╫──╫──╫─\n",
       "     └───┘ ░ └───┘ ░ └───┘ ░       ║  ║  ║  ║  ║  ║ \n",
       "c: 6/══════════════════════════════╩══╩══╩══╩══╩══╩═\n",
       "                                   0  1  2  3  4  5 "
      ]
     },
     "execution_count": 12,
     "metadata": {},
     "output_type": "execute_result"
    }
   ],
   "source": [
    "def test_function_3():\n",
    "    N = 6\n",
    "    \n",
    "    # constant oracle with f(x) = 0\n",
    "    oracle = QuantumCircuit(7)\n",
    "    oracle.id(6)\n",
    "    \n",
    "    circuit = dj_circuit_general(N, oracle)\n",
    "    \n",
    "    return circuit\n",
    "\n",
    "test_function_3().draw()"
   ]
  },
  {
   "cell_type": "code",
   "execution_count": 13,
   "id": "324555b4",
   "metadata": {
    "ExecuteTime": {
     "end_time": "2022-10-08T09:03:13.821894Z",
     "start_time": "2022-10-08T09:03:13.563245Z"
    }
   },
   "outputs": [
    {
     "name": "stdout",
     "output_type": "stream",
     "text": [
      "2022-10-17 15:19:36.459021\n",
      "6 cells appended.\n",
      "Congratulations, your answer is correct!\n"
     ]
    }
   ],
   "source": [
    "from grader.graders.problem_4.grader import grader3\n",
    "grader3.evaluate(dj_circuit_general)"
   ]
  },
  {
   "cell_type": "code",
   "execution_count": null,
   "id": "006d3db7",
   "metadata": {},
   "outputs": [],
   "source": []
  }
 ],
 "metadata": {
  "kernelspec": {
   "display_name": "Python 3 [Default]",
   "language": "python",
   "name": "python3"
  },
  "language_info": {
   "codemirror_mode": {
    "name": "ipython",
    "version": 3
   },
   "file_extension": ".py",
   "mimetype": "text/x-python",
   "name": "python",
   "nbconvert_exporter": "python",
   "pygments_lexer": "ipython3",
   "version": "3.9.10"
  },
  "vscode": {
   "interpreter": {
    "hash": "31f2aee4e71d21fbe5cf8b01ff0e069b9275f58929596ceb00d14d90e3e16cd6"
   }
  }
 },
 "nbformat": 4,
 "nbformat_minor": 5
}
