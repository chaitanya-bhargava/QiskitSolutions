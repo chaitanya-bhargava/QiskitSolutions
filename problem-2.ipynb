{
 "cells": [
  {
   "cell_type": "markdown",
   "id": "4041cb3f",
   "metadata": {},
   "source": [
    "# Problem 2 - Swap and Connect\n",
    "Whenever we run a quantum algorithm or circuit, we do not think of the underlying hardware. We are able to do this thanks to a set of steps that take place between the submission of our code and what the computer finally receives. These steps allow our **logical quantum circuit** to be transformed into a **physical quantum circuit** executable on a quantum backend. \n",
    "\n",
    "What do we mean by this? Let's take an example\n"
   ]
  },
  {
   "cell_type": "markdown",
   "id": "0b958d81",
   "metadata": {},
   "source": [
    "<img src=\"resources/problem-2/backend-img.png\">\n",
    "\n",
    "- This is the picture of an actual 7-qubit backend **ibm_perth**. Each of the numbers represent a *qubit* and the edges between these nodes represent *connectivity*\n",
    "\n",
    "- This is what is commonly represented as a **Graph**(https://en.wikipedia.org/wiki/Graph_theory) where the qubits are the vertices and edges are the connectivity between qubits.\n",
    "\n",
    "- If you see qubits **0 and 1**, they are *directly connected*, but *not* the qubits **0 and 3**. This would pose some problems to our quantum circuit model of computation. What exactly? (try to think) ! "
   ]
  },
  {
   "cell_type": "markdown",
   "id": "598cb57e",
   "metadata": {},
   "source": [
    "If you are thinking of multi-qubit gates, you're right! \n",
    "\n",
    "- We learnt about the $CX$ gate and other 2 qubit gates during our lectures. While trying to implement these 2 qubit gates, it is often the case that the qubits **do not have a direct connectivity**\n",
    "\n",
    "- Let us constrain ourselves for now and look at implementing the $CX$ gates. Let $CX(i,j)$ represent a $CX$ gate applied between qubits $i$ and $j$ with $i$ as the *control* qubit and $j$ as the *target* qubit \n",
    "\n",
    "- Continuing with our example above : \n",
    "    - $CX(1,3)$ is a directly possible operation\n",
    "    - $CX(1,5)$ is not a directly possible operation \n",
    "    \n",
    "- How do you connect two qubits which aren't directly connected? \n",
    "\n",
    "#### USE SWAP GATES!\n",
    "\n",
    "- These figures below show a $CX(1,5)$ could be executed for the given graph above - \n",
    "\n",
    "<table><tr>\n",
    "<td> <img src=\"resources/problem-2/no-swap-cx.png\" /> </td>\n",
    "<td> <img src=\"resources/problem-2/right-arrow.png\" width = 100px height = 50px/></td>\n",
    "<td> <img src=\"resources/problem-2/swap-cx.png\"/> </td>\n",
    "</tr></table>\n",
    "    \n",
    "- Since there is no direct connection between qubits 1 and 5, we can try to make a *bridge* through qubit 3. Similary if we wanted to make a connection between say qubits 0 and 6 we would need to make 3 such swap operations "
   ]
  },
  {
   "cell_type": "code",
   "execution_count": 9,
   "id": "a145c966",
   "metadata": {
    "ExecuteTime": {
     "end_time": "2022-10-12T14:49:05.681373Z",
     "start_time": "2022-10-12T14:49:05.676407Z"
    }
   },
   "outputs": [],
   "source": [
    "## Enter Team ID \n",
    "import os \n",
    "os.environ[\"TEAMID\"] = \"Excalibur\""
   ]
  },
  {
   "cell_type": "markdown",
   "id": "69c34ee1",
   "metadata": {},
   "source": [
    "## Task \n",
    "- Your task is to determine the minimum number of $SWAP$ gates needed to connect the qubits $i$ and $j$ in a given quantum backend. \n",
    "- You will be provided with the connectivity map of the device which is represented as a graph.\n",
    "- This connectivity of the backend is provided in the form of a dictionary where each key represents a qubit  and their associated values are lists which contain nodes they are directly connected with. For example - \n",
    "```python \n",
    "#connectivity for above graph is like \n",
    "connectivity_map = {\n",
    "    0 : [1], \n",
    "    1 : [0, 2, 3],\n",
    "    2 : [1],\n",
    "    3 : [1, 5],\n",
    "    4 : [5],\n",
    "    5 : [3, 4, 6],\n",
    "    6 : [5]\n",
    "}\n",
    "```"
   ]
  },
  {
   "cell_type": "markdown",
   "id": "5a472b25",
   "metadata": {},
   "source": [
    "## Level 1 - 30 points \n",
    "\n",
    "- You are given a connectivity map of a **line graph** . What this means is that you only have at most 2 neighbours for a particular vertex, and no cycles. For example - \n",
    "\n",
    "<img src = 'resources/problem-2/bogota.png'>\n",
    "\n",
    "- The graph contains $N$ nodes and $N-1$ edges\n",
    "- You are also given lists of control and target qubits with lengths $Q$\n",
    "\n",
    "- You need to find the minimum number of swaps required to directly connect the control with its corresponding target qubit. For example - \n",
    "\n",
    "\n",
    "    \n",
    "- **Constraints**\n",
    "    - $1<=N<=100$\n",
    "    - $1<=Q<=100$\n",
    "    - Time limit for execution : 10 seconds\n"
   ]
  },
  {
   "cell_type": "markdown",
   "id": "ef77aa8e",
   "metadata": {},
   "source": [
    "#### To submit \n",
    "- Create a function which should accept parameters `N`, `controls`, `targets` and `connectivity` \n",
    "- `N` is the total number of nodes in the graph\n",
    "- `connectivity` represents the connectivity map of the given line graph\n",
    "- `controls` and `targets` are going to be integer lists representing a list of controls and targets between which $CX$ gates are applied. \n",
    "\n",
    "- Your function should return an integer list `min_swaps` which represents the minimum number of swap operations required to connect the qubits `controls[i]` and `targets[i]` \n",
    "\n",
    "- We use $1-based$ indexing in the graph\n",
    "\n",
    "\n",
    "\n",
    "**NOTE** \n",
    "1. Please refrain from adding any unneccessary kinds of statements other than comments in the designated code block, this may result in wrong output \n",
    "2. You can assume that the input connectivity map and the control and target qubits are all valid inputs"
   ]
  },
  {
   "cell_type": "markdown",
   "id": "7bbbe9e7",
   "metadata": {},
   "source": [
    "#### Example Test Case\n",
    "\n",
    "```python\n",
    "controls = [1, 2]\n",
    "targets = [2, 5]\n",
    "connectivity_map = {\n",
    "    1 : [2],\n",
    "    2 : [1,3],\n",
    "    3 : [2,4],\n",
    "    4 : [3,5],\n",
    "    5 : [4]\n",
    "}   \n",
    "N = 5 \n",
    "\n",
    "min_swaps = get_min_swaps_line(N, controls, targets, connectivity_map)\n",
    "\n",
    "```\n",
    "- `min_swaps = [0, 2]` as - \n",
    "    - $CX(1,2)$ requires 0 $SWAP$ gates\n",
    "    - $CX(2,5)$ requires 2 $SWAP$ gates\n",
    "    \n"
   ]
  },
  {
   "cell_type": "code",
   "execution_count": null,
   "id": "e0ba3550",
   "metadata": {
    "ExecuteTime": {
     "end_time": "2022-10-08T08:56:39.351946Z",
     "start_time": "2022-10-08T08:56:39.343545Z"
    }
   },
   "outputs": [],
   "source": [
    "def get_min_swaps_line(N, controls, targets, connectivity_map):\n",
    "    min_swaps = []\n",
    "    ### You code goes here \n",
    "    length=len(controls)  \n",
    "    for i in range(length):\n",
    "        if(targets[i] in connectivity_map[controls[i]]):\n",
    "            min_swaps.append(0)\n",
    "        else:\n",
    "            min_swaps.append(abs(targets[i]-controls[i])-1)\n",
    "   \n",
    "    \n",
    "    ### your code goes here \n",
    "    \n",
    "    return min_swaps"
   ]
  },
  {
   "cell_type": "markdown",
   "id": "ffa73290",
   "metadata": {},
   "source": [
    "#### Test function\n",
    "- Test your function before submitting to the grader \n"
   ]
  },
  {
   "cell_type": "code",
   "execution_count": 11,
   "id": "97c75cd3",
   "metadata": {
    "ExecuteTime": {
     "end_time": "2022-10-08T08:44:08.732228Z",
     "start_time": "2022-10-08T08:44:08.561284Z"
    }
   },
   "outputs": [
    {
     "data": {
      "text/plain": [
       "[0, 1, 2, 3, 0, 0, 1, 2, 1, 0, 0, 1, 2, 1, 0, 0, 3, 2, 1, 0]"
      ]
     },
     "execution_count": 11,
     "metadata": {},
     "output_type": "execute_result"
    }
   ],
   "source": [
    "def test_function_1():\n",
    "    controls = [1,1,1,1,2,2,2,2,3,3,3,3,4,4,4,4,5,5,5,5]\n",
    "    targets = [2,3,4,5,1,3,4,5,1,2,4,5,1,2,3,5,1,2,3,4]\n",
    "    connectivity_map = {\n",
    "        1 : [2],\n",
    "        2 : [1,3],\n",
    "        3 : [2,4],\n",
    "        4 : [3,5],\n",
    "        5 : [4]\n",
    "    }   \n",
    "    N = 5  \n",
    "\n",
    "    min_swaps = get_min_swaps_line(N, controls, targets, connectivity_map)\n",
    "    \n",
    "    return min_swaps\n",
    "\n",
    "test_function_1()"
   ]
  },
  {
   "cell_type": "code",
   "execution_count": 12,
   "id": "6afdcc6c",
   "metadata": {
    "ExecuteTime": {
     "end_time": "2022-10-08T08:52:33.842826Z",
     "start_time": "2022-10-08T08:52:33.765331Z"
    }
   },
   "outputs": [
    {
     "name": "stdout",
     "output_type": "stream",
     "text": [
      "2022-10-17 13:16:18.492979\n",
      "6 cells appended.\n",
      "Congratulations, your answer is correct!\n"
     ]
    }
   ],
   "source": [
    "from grader.graders.problem_2.grader import grader1\n",
    "grader1.evaluate(get_min_swaps_line)"
   ]
  },
  {
   "cell_type": "markdown",
   "id": "80fd2e52",
   "metadata": {},
   "source": [
    "## Level 2 - 70 points\n",
    "\n",
    "- You can see that the above connection is not very efficient. \n",
    "- Many qubits which are at the end points have to use swaps proportional to the size of the graph to connect with each other.\n",
    "\n",
    "- We present graphs in a different connectivity now - \n",
    "\n",
    "<img src='resources/problem-2/big-graph.png'>\n",
    "\n",
    "- Here the qubits are in a connected formm *but* each qubit may have more than 2 neighbours\n",
    "- This introduces a larger connectivity range and minimizes the number of swaps to some extent. But a problem which arises now is how do we connect the qubits which are not directly connected? That is for you to solve!\n",
    "- The graph contains $N$ nodes and $M$ edges where $M$ can be greater than $N-1$\n",
    "- You are also given lists of control and target qubits with lengths $Q$\n",
    "- You need to find the minimum number of swaps required to directly connect the control with its corresponding target qubit."
   ]
  },
  {
   "cell_type": "markdown",
   "id": "d66e38c3",
   "metadata": {},
   "source": [
    "### Constraints\n",
    "- The following constraints hold true :\n",
    "    - $1 <= N <= 1000$\n",
    "    - $1 <= M <= min(N(N-1)/2, 10000)$\n",
    "    - $1 <= Q < 1000$\n",
    "    - Time limit for execution : 60 seconds"
   ]
  },
  {
   "cell_type": "markdown",
   "id": "124a4970",
   "metadata": {},
   "source": [
    "#### To submit \n",
    "- Create a function which should accept parameters `N`, `M`, `controls`, `targets` and `connectivity` \n",
    "- `N` is the total number of nodes and `M` is the total number of edges in the graph\n",
    "- `connectivity` represents the connectivity map of the given line graph\n",
    "- `controls` and `targets` are going to be integer lists representing a list of controls and targets between which $CX$ gates are applied. \n",
    "\n",
    "- If the qubits cannot be connected, you should save `-1` as the answer for number of swaps required\n",
    "\n",
    "- Your function should return an integer list `min_swaps` which represents the minimum number of swap operations required to connect the qubits `controls[i]` and `targets[i]` \n",
    "- We use $1-based$ indexing for the graph\n",
    "\n",
    "\n",
    "\n",
    "**NOTE** \n",
    "1. Please refrain from adding any unneccessary kinds of statements other than comments in the designated code block, this may result in wrong output \n",
    "2. You can assume that the input connectivity map and the control and target qubits are all valid inputs"
   ]
  },
  {
   "cell_type": "markdown",
   "id": "29dd071a",
   "metadata": {
    "tags": []
   },
   "source": [
    "#### Example Test Case\n",
    "\n",
    "```python\n",
    "controls = [1, 2]\n",
    "targets = [2, 5]\n",
    "connectivity_map = {\n",
    "    1 : [2],\n",
    "    2 : [1,3],\n",
    "    3 : [2,4,5],\n",
    "    4 : [3],\n",
    "    5 : [3]\n",
    "}   \n",
    "N = 5 \n",
    "M = 4\n",
    "\n",
    "min_swaps = get_min_swaps_graph(N, M, controls, targets, connectivity_map)\n",
    "\n",
    "```\n",
    "- `min_swaps = [0, 1]` as - \n",
    "    - $CX(1,2)$ requires 0 $SWAP$ gates\n",
    "    - $CX(2,5)$ requires 1 $SWAP$ gate    \n"
   ]
  },
  {
   "cell_type": "code",
   "execution_count": 6,
   "id": "8de0ca8f",
   "metadata": {
    "ExecuteTime": {
     "end_time": "2022-10-08T08:57:33.117076Z",
     "start_time": "2022-10-08T08:57:33.113914Z"
    }
   },
   "outputs": [],
   "source": [
    "import sys\n",
    "def get_min_swaps_graph(N, M, controls, targets, connectivity_map):\n",
    "    min_swaps = []\n",
    "    ### You code goes here\n",
    "    length=len(controls)  \n",
    "    for i in range(length):\n",
    "        if(targets[i] in connectivity_map[controls[i]]):\n",
    "            min_swaps.append(0)\n",
    "        else:\n",
    "            u=controls[i]\n",
    "            v=targets[i]\n",
    "            visited=[]\n",
    "            distance=[]\n",
    "            q=[]\n",
    "            for i in range(N):\n",
    "                visited.append(0)\n",
    "                distance.append(sys.maxsize)\n",
    "            for k in connectivity_map[u]:\n",
    "                distance[k-1]=1\n",
    "            distance[u-1]=0\n",
    "            q.append(u)\n",
    "            visited[u-1]=1\n",
    "            while(q):\n",
    "                x=q.pop(0)\n",
    "                templist=connectivity_map[x]\n",
    "                length2=len(templist)\n",
    "                for j in range(length2):\n",
    "                    if(visited[templist[j]-1]==1):\n",
    "                        continue\n",
    "                    if((distance[x-1]+1)<distance[templist[j]-1]):\n",
    "                        distance[templist[j]-1]=distance[x-1]+1\n",
    "                    q.append(templist[j])\n",
    "                    visited[templist[j]-1]=1\n",
    "            if(distance[v-1]==sys.maxsize):\n",
    "                min_swaps.append(-1)\n",
    "                continue\n",
    "            min_swaps.append(distance[v-1]-1)        \n",
    "    ### your code goes here \n",
    "    \n",
    "    return min_swaps"
   ]
  },
  {
   "cell_type": "markdown",
   "id": "f94e04ab",
   "metadata": {},
   "source": [
    "### Test function\n",
    "- Test your function before submitting to the grader \n"
   ]
  },
  {
   "cell_type": "code",
   "execution_count": 14,
   "id": "5104ad89",
   "metadata": {
    "ExecuteTime": {
     "end_time": "2022-10-08T08:44:08.734698Z",
     "start_time": "2022-10-08T08:44:08.447Z"
    }
   },
   "outputs": [
    {
     "data": {
      "text/plain": [
       "[0, 1]"
      ]
     },
     "execution_count": 14,
     "metadata": {},
     "output_type": "execute_result"
    }
   ],
   "source": [
    "def test_function_2():\n",
    "    controls = [1, 2]\n",
    "    targets = [2, 5]\n",
    "    connectivity_map = {\n",
    "        1 : [2],\n",
    "        2 : [1,3],\n",
    "        3 : [2,4,5],\n",
    "        4 : [3],\n",
    "        5 : [3]\n",
    "    }   \n",
    "    N = 5 \n",
    "    M = 4\n",
    "    min_swaps = get_min_swaps_graph(N, M, controls, targets, connectivity_map)\n",
    "    \n",
    "    return min_swaps\n",
    "\n",
    "test_function_2()"
   ]
  },
  {
   "cell_type": "code",
   "execution_count": 10,
   "id": "6372c87b",
   "metadata": {
    "ExecuteTime": {
     "end_time": "2022-10-08T08:53:28.424514Z",
     "start_time": "2022-10-08T08:52:39.782121Z"
    }
   },
   "outputs": [
    {
     "name": "stdout",
     "output_type": "stream",
     "text": [
      "Failed on  /opt/.qbraid/environments/qbraid_000000/pyenv/lib/python3.9/site-packages/grader/graders/problem_2/./tests/inputs/task-2-0.txt\n",
      "2022-10-19 17:07:37.783171\n",
      "6 cells appended.\n",
      "Uh-oh, that's not quite correct :(\n"
     ]
    }
   ],
   "source": [
    "from grader.graders.problem_2.grader import grader2\n",
    "grader2.evaluate(get_min_swaps_graph)"
   ]
  },
  {
   "cell_type": "code",
   "execution_count": null,
   "id": "3bc809bc",
   "metadata": {},
   "outputs": [],
   "source": []
  }
 ],
 "metadata": {
  "kernelspec": {
   "display_name": "Python 3 [Default]",
   "language": "python",
   "name": "python3"
  },
  "language_info": {
   "codemirror_mode": {
    "name": "ipython",
    "version": 3
   },
   "file_extension": ".py",
   "mimetype": "text/x-python",
   "name": "python",
   "nbconvert_exporter": "python",
   "pygments_lexer": "ipython3",
   "version": "3.9.10"
  },
  "vscode": {
   "interpreter": {
    "hash": "31f2aee4e71d21fbe5cf8b01ff0e069b9275f58929596ceb00d14d90e3e16cd6"
   }
  }
 },
 "nbformat": 4,
 "nbformat_minor": 5
}
