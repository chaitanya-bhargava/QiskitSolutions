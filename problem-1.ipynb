{
 "cells": [
  {
   "cell_type": "markdown",
   "id": "779b68c4",
   "metadata": {},
   "source": [
    "# Problem 1 - The Basics \n",
    "\n",
    "We all need to start somewhere right! The following challenges are to get you warmed up for the upcoming exercises in the problems which follow. Dive in!"
   ]
  },
  {
   "cell_type": "code",
   "execution_count": 1,
   "id": "f842b3d8",
   "metadata": {},
   "outputs": [],
   "source": [
    "## Enter Team ID \n",
    "import os \n",
    "os.environ[\"TEAMID\"] = \"Excalibur\""
   ]
  },
  {
   "cell_type": "markdown",
   "id": "cd6024e3",
   "metadata": {},
   "source": [
    "## Task \n",
    "- Each problem requires you to make a **quantum state** on a given number of qubits.\n",
    "- Your submissions will be graded by our challenge grader and if they are correct, you'll get your points!\n",
    "- Note that for all our challenges we'll be following [Qiskit's little endian notation](https://quantumcomputing.stackexchange.com/questions/8244/big-endian-vs-little-endian-in-qiskit) Eg. $|110\\rangle$ is $6$"
   ]
  },
  {
   "cell_type": "code",
   "execution_count": 2,
   "id": "d82fd474",
   "metadata": {
    "ExecuteTime": {
     "end_time": "2022-10-08T08:36:49.787659Z",
     "start_time": "2022-10-08T08:36:49.111322Z"
    }
   },
   "outputs": [],
   "source": [
    "from qiskit import QuantumCircuit"
   ]
  },
  {
   "cell_type": "markdown",
   "id": "951b2cc0",
   "metadata": {},
   "source": [
    "## Level 1 - 10 points\n",
    "- Your task is to form a **Bell State** given by the following statevector - \n",
    "$$ |\\Psi \\rangle = \\frac{|00 \\rangle - |11\\rangle}{\\sqrt{2}} $$\n"
   ]
  },
  {
   "cell_type": "markdown",
   "id": "583d184a",
   "metadata": {},
   "source": [
    "#### To Submit \n",
    "- You are required to make a function which returns the `QuantumCircuit` object implementing the above state \n",
    "- Note that the circuit which you return will be executed on the `statevector_simulator` so **do not add measurements** in your circuit\n",
    "\n",
    "#### Note\n",
    "- Please refrain from adding any unnecessary code to your function, as it may result in a wrong output"
   ]
  },
  {
   "cell_type": "code",
   "execution_count": 3,
   "id": "c5a49d54",
   "metadata": {
    "ExecuteTime": {
     "end_time": "2022-10-08T08:37:19.554372Z",
     "start_time": "2022-10-08T08:37:19.547930Z"
    }
   },
   "outputs": [],
   "source": [
    "def make_bell_state():\n",
    "    qc = QuantumCircuit(2)\n",
    "    ### your code here\n",
    "    qc.x(0)\n",
    "    qc.h(0)\n",
    "    qc.cx(0,1)\n",
    "    ### your code here\n",
    "    return qc "
   ]
  },
  {
   "cell_type": "markdown",
   "id": "8325c337",
   "metadata": {},
   "source": [
    "#### Test function\n",
    "- Test your function before submitting to the grader "
   ]
  },
  {
   "cell_type": "code",
   "execution_count": 4,
   "id": "42edbf50",
   "metadata": {
    "ExecuteTime": {
     "end_time": "2022-10-08T08:37:19.825311Z",
     "start_time": "2022-10-08T08:37:19.820788Z"
    }
   },
   "outputs": [
    {
     "data": {
      "text/html": [
       "<pre style=\"word-wrap: normal;white-space: pre;background: #fff0;line-height: 1.1;font-family: &quot;Courier New&quot;,Courier,monospace\">     ┌───┐┌───┐     \n",
       "q_0: ┤ X ├┤ H ├──■──\n",
       "     └───┘└───┘┌─┴─┐\n",
       "q_1: ──────────┤ X ├\n",
       "               └───┘</pre>"
      ],
      "text/plain": [
       "     ┌───┐┌───┐     \n",
       "q_0: ┤ X ├┤ H ├──■──\n",
       "     └───┘└───┘┌─┴─┐\n",
       "q_1: ──────────┤ X ├\n",
       "               └───┘"
      ]
     },
     "execution_count": 4,
     "metadata": {},
     "output_type": "execute_result"
    }
   ],
   "source": [
    "def test_function_1():\n",
    "    circuit = make_bell_state()\n",
    "    return circuit \n",
    "\n",
    "test_function_1().draw()\n",
    "    "
   ]
  },
  {
   "cell_type": "code",
   "execution_count": 5,
   "id": "a27eb6c7",
   "metadata": {
    "ExecuteTime": {
     "end_time": "2022-10-08T08:37:20.016679Z",
     "start_time": "2022-10-08T08:37:19.989571Z"
    }
   },
   "outputs": [
    {
     "name": "stdout",
     "output_type": "stream",
     "text": [
      "2022-10-17 12:40:37.603602\n",
      "6 cells appended.\n",
      "Congratulations, your answer is correct!\n"
     ]
    }
   ],
   "source": [
    "from grader.graders.problem_1.grader import grader1 \n",
    "grader1.evaluate(make_bell_state)"
   ]
  },
  {
   "cell_type": "markdown",
   "id": "58120863",
   "metadata": {},
   "source": [
    "## Level 2 - 15 points\n",
    "- This task is based on superposition\n",
    "- Can you create an equal superposition of all the basis states given a state $|0\\rangle ^{\\otimes n}$?\n",
    "- The final state after your operation $\\mathcal{U}$ should be - \n",
    "\n",
    "$$ \\mathcal{U} |0\\rangle ^{\\otimes n} = \\frac{1}{\\sqrt{2^n}} \\sum_{ x \\epsilon \\{0,1\\}^{n} } |x \\rangle$$\n",
    "\n",
    "- **Constraints**\n",
    "    - $2 <= n <= 12$\n",
    "    "
   ]
  },
  {
   "cell_type": "markdown",
   "id": "6efd3074",
   "metadata": {},
   "source": [
    "#### To submit \n",
    "- You are required to make a function which takes in a parameter `n` \n",
    "- Return a `QuantumCircuit` containing with the desired operation $\\mathcal{U}$ \n",
    "- Your circuit will be executed and its statevector will be compared.\n",
    "- Please **do not add measurements** to your circuit \n",
    "\n",
    "\n",
    "#### Note\n",
    "- Please refrain from adding any unnecessary code to your function, as it may result in a wrong output"
   ]
  },
  {
   "cell_type": "markdown",
   "id": "16ca501c",
   "metadata": {},
   "source": [
    "#### Example Test Case \n",
    "\n",
    "```python\n",
    "n = 2\n",
    "\n",
    "# operation should return the quantum circuit \n",
    "# which implements the equal superposition of \n",
    "# 00, 01, 10, 11\n",
    "operation = superposition_operation(n)\n",
    "\n",
    "\n",
    "``` "
   ]
  },
  {
   "cell_type": "code",
   "execution_count": 6,
   "id": "5c9ef451",
   "metadata": {
    "ExecuteTime": {
     "end_time": "2022-10-08T08:15:36.300444Z",
     "start_time": "2022-10-08T08:15:36.297572Z"
    }
   },
   "outputs": [],
   "source": [
    "def superposition_operation(n):\n",
    "    qc = QuantumCircuit(n)\n",
    "    \n",
    "    ### Your code here\n",
    "    for i in range(n):\n",
    "        qc.h(i)\n",
    "    ### Your code here\n",
    "    \n",
    "    return qc"
   ]
  },
  {
   "cell_type": "markdown",
   "id": "64b29b18",
   "metadata": {},
   "source": [
    "#### Test function\n",
    "- Test your function before submitting to the grader "
   ]
  },
  {
   "cell_type": "code",
   "execution_count": 8,
   "id": "9f7ee708",
   "metadata": {
    "ExecuteTime": {
     "end_time": "2022-10-08T08:15:37.070147Z",
     "start_time": "2022-10-08T08:15:37.064722Z"
    }
   },
   "outputs": [
    {
     "data": {
      "text/html": [
       "<pre style=\"word-wrap: normal;white-space: pre;background: #fff0;line-height: 1.1;font-family: &quot;Courier New&quot;,Courier,monospace\">     ┌───┐\n",
       "q_0: ┤ H ├\n",
       "     ├───┤\n",
       "q_1: ┤ H ├\n",
       "     ├───┤\n",
       "q_2: ┤ H ├\n",
       "     ├───┤\n",
       "q_3: ┤ H ├\n",
       "     ├───┤\n",
       "q_4: ┤ H ├\n",
       "     └───┘</pre>"
      ],
      "text/plain": [
       "     ┌───┐\n",
       "q_0: ┤ H ├\n",
       "     ├───┤\n",
       "q_1: ┤ H ├\n",
       "     ├───┤\n",
       "q_2: ┤ H ├\n",
       "     ├───┤\n",
       "q_3: ┤ H ├\n",
       "     ├───┤\n",
       "q_4: ┤ H ├\n",
       "     └───┘"
      ]
     },
     "execution_count": 8,
     "metadata": {},
     "output_type": "execute_result"
    }
   ],
   "source": [
    "def test_function_2():\n",
    "    n = 5\n",
    "\n",
    "    operation = superposition_operation(n)\n",
    "    \n",
    "    return operation \n",
    "test_function_2().draw()\n",
    "    "
   ]
  },
  {
   "cell_type": "code",
   "execution_count": 9,
   "id": "c3542ee1",
   "metadata": {
    "ExecuteTime": {
     "end_time": "2022-10-08T08:15:38.316324Z",
     "start_time": "2022-10-08T08:15:38.298289Z"
    }
   },
   "outputs": [
    {
     "name": "stdout",
     "output_type": "stream",
     "text": [
      "2022-10-17 12:42:25.798138\n",
      "6 cells appended.\n",
      "Congratulations, your answer is correct!\n"
     ]
    }
   ],
   "source": [
    "from grader.graders.problem_1.grader import grader2\n",
    "grader2.evaluate(superposition_operation)"
   ]
  },
  {
   "cell_type": "markdown",
   "id": "a9e5b595",
   "metadata": {},
   "source": [
    "## Level 3 - 25 points\n",
    "- Let's take the superposition game up a notch! \n",
    "- You are given an integer $n$\n",
    "- You need to create a superposition of all the **even** basis states or the **odd** basis states out of the possible $2^n$ basis states \n",
    "- **Constraints**\n",
    "    - $2 <= n <= 12$\n",
    "    \n",
    "### Explanation \n",
    "- If we have $n = 2$, the states would be something like - \n",
    "    $$Even = \\frac{|10 \\rangle + |00 \\rangle }{\\sqrt{2}}$$\n",
    "    $$Odd = \\frac{|11 \\rangle + |01 \\rangle }{\\sqrt{2}}$$ \n",
    "- We are following the qiskit notation and thus $|10 \\rangle$ represents $2$, not $1$"
   ]
  },
  {
   "cell_type": "markdown",
   "id": "48100645",
   "metadata": {},
   "source": [
    "#### To submit\n",
    "- You are required to make a function which takes in a parameter $n$\n",
    "- This function would return a tuple of two `QuantumCircuits`, (`even`, `odd`) \n",
    "- `even` would implement the $Even$ state for the qubits \n",
    "- `odd` would implement the $Odd$ state for the qubits \n",
    "- Please **do not add measurements** to your circuit \n",
    "\n",
    "\n",
    "#### Note\n",
    "- Please refrain from adding any unnecessary code to your function, as it may result in a wrong output"
   ]
  },
  {
   "cell_type": "code",
   "execution_count": 5,
   "id": "ef2890ee",
   "metadata": {
    "ExecuteTime": {
     "end_time": "2022-10-08T08:37:36.750068Z",
     "start_time": "2022-10-08T08:37:36.746908Z"
    }
   },
   "outputs": [],
   "source": [
    "def make_even_odd(n):\n",
    "    even = QuantumCircuit(n)\n",
    "    odd = QuantumCircuit(n)\n",
    "    \n",
    "    ### your code here \n",
    "    for i in range(1,n):\n",
    "        even.h(i)\n",
    "        odd.h(i)\n",
    "    odd.x(0)\n",
    "    ### your code here \n",
    "    \n",
    "    return (even, odd)"
   ]
  },
  {
   "cell_type": "markdown",
   "id": "481e8849",
   "metadata": {},
   "source": [
    "#### Test function\n",
    "- Test your function here before submitting to the grader"
   ]
  },
  {
   "cell_type": "code",
   "execution_count": 6,
   "id": "d799c71a",
   "metadata": {
    "ExecuteTime": {
     "end_time": "2022-10-08T08:37:37.821880Z",
     "start_time": "2022-10-08T08:37:37.691342Z"
    }
   },
   "outputs": [
    {
     "data": {
      "image/png": "[encoded data removed]",
      "text/plain": [
       "<Figure size 146.797x204.68 with 1 Axes>"
      ]
     },
     "metadata": {},
     "output_type": "display_data"
    },
    {
     "data": {
      "image/png": "[encoded data removed]",
      "text/plain": [
       "<Figure size 146.797x204.68 with 1 Axes>"
      ]
     },
     "execution_count": 6,
     "metadata": {},
     "output_type": "execute_result"
    }
   ],
   "source": [
    "def test_function_3():\n",
    "    n = 3 \n",
    "    \n",
    "    even, odd = make_even_odd(n)\n",
    "    \n",
    "    return even, odd \n",
    "\n",
    "even, odd = test_function_3()\n",
    "\n",
    "display(even.draw('mpl'))\n",
    "odd.draw('mpl')"
   ]
  },
  {
   "cell_type": "code",
   "execution_count": 7,
   "id": "b1ca6834",
   "metadata": {
    "ExecuteTime": {
     "end_time": "2022-10-08T08:37:38.356415Z",
     "start_time": "2022-10-08T08:37:38.300521Z"
    }
   },
   "outputs": [
    {
     "name": "stdout",
     "output_type": "stream",
     "text": [
      "2022-10-17 15:50:39.114586\n",
      "6 cells appended.\n",
      "Congratulations, your answer is correct!\n"
     ]
    }
   ],
   "source": [
    "from grader.graders.problem_1.grader import grader3\n",
    "grader3.evaluate(make_even_odd)"
   ]
  },
  {
   "cell_type": "code",
   "execution_count": null,
   "id": "0f8cf00c",
   "metadata": {},
   "outputs": [],
   "source": []
  }
 ],
 "metadata": {
  "kernelspec": {
   "display_name": "Python 3 [Default]",
   "language": "python",
   "name": "python3"
  },
  "language_info": {
   "codemirror_mode": {
    "name": "ipython",
    "version": 3
   },
   "file_extension": ".py",
   "mimetype": "text/x-python",
   "name": "python",
   "nbconvert_exporter": "python",
   "pygments_lexer": "ipython3",
   "version": "3.9.10"
  },
  "vscode": {
   "interpreter": {
    "hash": "ee2e93199fd55c7b9797c0fc3b5dc57442849c6b76d1976c834c1d3bb63960ba"
   }
  }
 },
 "nbformat": 4,
 "nbformat_minor": 5
}
